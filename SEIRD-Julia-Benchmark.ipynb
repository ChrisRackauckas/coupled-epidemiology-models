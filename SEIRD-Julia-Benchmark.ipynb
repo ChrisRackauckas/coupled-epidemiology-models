{
 "cells": [
  {
   "cell_type": "markdown",
   "metadata": {},
   "source": [
    "Ready data from numpy arrays stored on disk"
   ]
  },
  {
   "cell_type": "code",
   "execution_count": 1,
   "metadata": {},
   "outputs": [],
   "source": [
    "using NPZ\n",
    "coupling_matrix = npzread(\"./coupling_matrix.npy\")\n",
    "epi_array = npzread(\"./epi_array.npy\")\n",
    "mobilitypopulation_array_scaled = npzread(\"./mobilitypopulation_array_scaled.npy\")\n",
    "# batch dimension for FastDense layer is the second dimension\n",
    "epi_array = permutedims(epi_array,[3,2,1])\n",
    "mobilitypopulation_array_scaled = permutedims(mobilitypopulation_array_scaled,[2,1,3]);"
   ]
  },
  {
   "cell_type": "code",
   "execution_count": 2,
   "metadata": {},
   "outputs": [
    {
     "name": "stdout",
     "output_type": "stream",
     "text": [
      "(104, 104, 99)\n",
      "(104, 2, 99)\n",
      "(7, 104, 99)\n"
     ]
    }
   ],
   "source": [
    "println(size(coupling_matrix))\n",
    "println(size(epi_array))\n",
    "println(size(mobilitypopulation_array_scaled))"
   ]
  },
  {
   "cell_type": "code",
   "execution_count": 3,
   "metadata": {},
   "outputs": [
    {
     "name": "stderr",
     "output_type": "stream",
     "text": [
      "┌ Info: Precompiling DiffEqFlux [aae7a2af-3d4f-5e19-a356-7da93b79d9d0]\n",
      "└ @ Base loading.jl:1278\n",
      "┌ Warning: Error requiring CUDA from DiffEqNoiseProcess:\n",
      "│ UndefVarError: CuArrays not defined\n",
      "│ Stacktrace:\n",
      "│  [1] top-level scope at /Users/ibulu/.julia/packages/DiffEqNoiseProcess/Gu3FC/src/init.jl:9\n",
      "│  [2] eval at ./boot.jl:331 [inlined]\n",
      "│  [3] eval at /Users/ibulu/.julia/packages/DiffEqNoiseProcess/Gu3FC/src/DiffEqNoiseProcess.jl:1 [inlined]\n",
      "│  [4] (::DiffEqNoiseProcess.var\"#6#15\")() at /Users/ibulu/.julia/packages/Requires/qy6zC/src/require.jl:85\n",
      "│  [5] err(::Any, ::Module, ::String) at /Users/ibulu/.julia/packages/Requires/qy6zC/src/require.jl:42\n",
      "│  [6] (::DiffEqNoiseProcess.var\"#5#14\")() at /Users/ibulu/.julia/packages/Requires/qy6zC/src/require.jl:84\n",
      "│  [7] withpath(::Any, ::String) at /Users/ibulu/.julia/packages/Requires/qy6zC/src/require.jl:32\n",
      "│  [8] (::DiffEqNoiseProcess.var\"#4#13\")() at /Users/ibulu/.julia/packages/Requires/qy6zC/src/require.jl:83\n",
      "│  [9] #invokelatest#1 at ./essentials.jl:710 [inlined]\n",
      "│  [10] invokelatest at ./essentials.jl:709 [inlined]\n",
      "│  [11] foreach at ./abstractarray.jl:2009 [inlined]\n",
      "│  [12] loadpkg(::Base.PkgId) at /Users/ibulu/.julia/packages/Requires/qy6zC/src/require.jl:22\n",
      "│  [13] #invokelatest#1 at ./essentials.jl:710 [inlined]\n",
      "│  [14] invokelatest at ./essentials.jl:709 [inlined]\n",
      "│  [15] _tryrequire_from_serialized(::Base.PkgId, ::UInt64, ::String) at ./loading.jl:715\n",
      "│  [16] _require_search_from_serialized(::Base.PkgId, ::String) at ./loading.jl:771\n",
      "│  [17] _tryrequire_from_serialized(::Base.PkgId, ::UInt64, ::Nothing) at ./loading.jl:712\n",
      "│  [18] _require_from_serialized(::String) at ./loading.jl:744\n",
      "│  [19] _require(::Base.PkgId) at ./loading.jl:1040\n",
      "│  [20] require(::Base.PkgId) at ./loading.jl:928\n",
      "│  [21] require(::Module, ::Symbol) at ./loading.jl:923\n",
      "│  [22] include_string(::Function, ::Module, ::String, ::String) at ./loading.jl:1091\n",
      "│  [23] softscope_include_string(::Module, ::String, ::String) at /Users/ibulu/.julia/packages/SoftGlobalScope/u4UzH/src/SoftGlobalScope.jl:65\n",
      "│  [24] execute_request(::ZMQ.Socket, ::IJulia.Msg) at /Users/ibulu/.julia/packages/IJulia/DrVMH/src/execute_request.jl:67\n",
      "│  [25] #invokelatest#1 at ./essentials.jl:710 [inlined]\n",
      "│  [26] invokelatest at ./essentials.jl:709 [inlined]\n",
      "│  [27] eventloop(::ZMQ.Socket) at /Users/ibulu/.julia/packages/IJulia/DrVMH/src/eventloop.jl:8\n",
      "│  [28] (::IJulia.var\"#15#18\")() at ./task.jl:356\n",
      "└ @ Requires /Users/ibulu/.julia/packages/Requires/qy6zC/src/require.jl:44\n"
     ]
    }
   ],
   "source": [
    "using DiffEqSensitivity, OrdinaryDiffEq, Zygote\n",
    "using DiffEqFlux, Flux, Optim, OrdinaryDiffEq, Plots"
   ]
  },
  {
   "cell_type": "markdown",
   "metadata": {},
   "source": [
    "## define a simple neural network / match JAX version"
   ]
  },
  {
   "cell_type": "code",
   "execution_count": 4,
   "metadata": {},
   "outputs": [],
   "source": [
    "nn = FastChain(FastDense(7, 7, swish),\n",
    "                       FastDense(7, 7, swish),\n",
    "                       FastDense(7, 7, swish),\n",
    "                       FastDense(7, 1, softplus));"
   ]
  },
  {
   "cell_type": "code",
   "execution_count": 5,
   "metadata": {},
   "outputs": [],
   "source": [
    "# destructure neural network paraemeter into a vector. Conveniently, this matches with what we do in the JAX code\n",
    "p0_nnet = initial_params(nn)\n",
    "n_weights = length(p0_nnet);"
   ]
  },
  {
   "cell_type": "markdown",
   "metadata": {},
   "source": [
    "###  let's apply the neural net defined above to the mobility data"
   ]
  },
  {
   "cell_type": "code",
   "execution_count": 6,
   "metadata": {},
   "outputs": [],
   "source": [
    "nn(mobilitypopulation_array_scaled[:,:,1], p0_nnet);"
   ]
  },
  {
   "cell_type": "markdown",
   "metadata": {},
   "source": [
    "## let,s define the parameters for scaling the coupling matrix county wise"
   ]
  },
  {
   "cell_type": "code",
   "execution_count": 7,
   "metadata": {},
   "outputs": [],
   "source": [
    "using Random, Distributions"
   ]
  },
  {
   "cell_type": "code",
   "execution_count": 8,
   "metadata": {},
   "outputs": [],
   "source": [
    "Random.seed!(123)\n",
    "d = Normal()\n",
    "n_counties = size(coupling_matrix,1)\n",
    "p0_scaler = rand(d, n_counties);"
   ]
  },
  {
   "cell_type": "markdown",
   "metadata": {},
   "source": [
    "## Let's define the coupled ode model with neural network"
   ]
  },
  {
   "cell_type": "code",
   "execution_count": 9,
   "metadata": {},
   "outputs": [],
   "source": [
    "using ComponentArrays\n",
    "using Parameters: @unpack"
   ]
  },
  {
   "cell_type": "code",
   "execution_count": 10,
   "metadata": {},
   "outputs": [
    {
     "data": {
      "text/plain": [
       "SEIRD_mobility_coupled_outer (generic function with 1 method)"
      ]
     },
     "execution_count": 10,
     "metadata": {},
     "output_type": "execute_result"
    }
   ],
   "source": [
    "function SEIRD_mobility_coupled_outer(mobility_, coupling_matrix_, nn_)\n",
    "    \n",
    "    function SEIRD_mobility_coupled_inner(du, \n",
    "                                          u, \n",
    "                                          p_, t)\n",
    "        s = @view u[:,1] \n",
    "        e = @view u[:,2] \n",
    "        id1 = @view u[:,3]\n",
    "        id2 = @view u[:,4]\n",
    "        id3 = @view u[:,5]\n",
    "        id4 = @view u[:,6]\n",
    "        id5 = @view u[:,7]\n",
    "        id6 = @view u[:,8] \n",
    "        id7 = @view u[:,9] \n",
    "        d = @view u[:,10]\n",
    "        ir1 = @view u[:,11]\n",
    "        ir2 = @view u[:,12]\n",
    "        ir3 = @view u[:,13]\n",
    "        ir4 = @view u[:,14]\n",
    "        ir5 = @view u[:,15]\n",
    "        r = @view u[:,16]\n",
    "        \n",
    "        ds = @view du[:,1] \n",
    "        de = @view du[:,2] \n",
    "        did1 = @view du[:,3]\n",
    "        did2 = @view du[:,4]\n",
    "        did3 = @view du[:,5]\n",
    "        did4 = @view du[:,6]\n",
    "        did5 = @view du[:,7]\n",
    "        did6 = @view du[:,8] \n",
    "        did7 = @view du[:,9] \n",
    "        dd = @view du[:,10]\n",
    "        dir1 = @view du[:,11]\n",
    "        dir2 = @view du[:,12]\n",
    "        dir3 = @view du[:,13]\n",
    "        dir4 = @view du[:,14]\n",
    "        dir5 = @view du[:,15]\n",
    "        dr = @view du[:,16]\n",
    "        \n",
    "        κ, α, γ = softplus.(p_[1:3])\n",
    "    # κ*α and γ*η are not independent. The probablibility of transition from e to Ir and Id has to add up to 1\n",
    "        η = - log(-expm1(-κ*α))/(γ+1.0e-8) \n",
    "        n_c = size(coupling_matrix_,1)\n",
    "        scaler_ = softplus.(p_[4:3+n_c])\n",
    "        cm_ = scaler_ .* coupling_matrix_[:,:,Int32(round(t+1.0))]\n",
    "        p_nnet = p_[4+n_c:end]\n",
    "        β = nn_(mobility_[:,:,Int32(round(t+1.0))], p_nnet)[1,:]\n",
    "        i = id1+id2+id3+ir1+ir2+ir3+ir4+ir5\n",
    "        c1 = (reshape(i,1,:)*transpose(cm_))[1,:]\n",
    "        c2 = cm_*i\n",
    "        a = β .* s .* i + β .* s .* (c1+c2)\n",
    "        @. ds = -a\n",
    "        @. de = a - κ*α*e - γ*η*e\n",
    "        @. did1 = κ*(α*e-id1)\n",
    "        @. did2 = κ*(id1-id2)\n",
    "        @. did3 = κ*(id2-id3)\n",
    "        @. did4 = κ*(id3-id4)\n",
    "        @. did5 = κ*(id4-id5)\n",
    "        @. did6 = κ*(id5-id6)\n",
    "        @. did7 = κ*(id6-id7)\n",
    "        @. dd = κ*id7\n",
    "        \n",
    "        @. dir1 = γ*(η*e-ir1)\n",
    "        @. dir2 = γ*(ir1-ir2)\n",
    "        @. dir3 = γ*(ir2-ir3)\n",
    "        @. dir4 = γ*(ir3-ir4)\n",
    "        @. dir5 = γ*(ir4-ir5)\n",
    "        @. dr = γ*ir5\n",
    "    end\n",
    "end"
   ]
  },
  {
   "cell_type": "code",
   "execution_count": 11,
   "metadata": {},
   "outputs": [],
   "source": [
    "SEIRD_mobility_coupled = SEIRD_mobility_coupled_outer(mobilitypopulation_array_scaled, \n",
    "                                                      coupling_matrix, nn);"
   ]
  },
  {
   "cell_type": "markdown",
   "metadata": {},
   "source": [
    "### define ode parameters"
   ]
  },
  {
   "cell_type": "code",
   "execution_count": 12,
   "metadata": {},
   "outputs": [],
   "source": [
    "κ0_ = 0.97\n",
    "α0_ = 0.00185\n",
    "β0_ = 0.5\n",
    "tb_ = 15\n",
    "β1_ = 0.4\n",
    "γ0_ = 0.24\n",
    "inv_softplus(x) = x+log(-expm1(-x))    \n",
    "p0_ode = inv_softplus.([κ0_, α0_, γ0_]);"
   ]
  },
  {
   "cell_type": "markdown",
   "metadata": {},
   "source": [
    "### define initial conditions"
   ]
  },
  {
   "cell_type": "code",
   "execution_count": 13,
   "metadata": {},
   "outputs": [],
   "source": [
    "\n",
    "ifr = 0.007\n",
    "n_counties = size(coupling_matrix,1) \n",
    "\n",
    "n = ones(n_counties)\n",
    "ic0 = epi_array[:,1,1]\n",
    "d0 = epi_array[:,2,1]\n",
    "r0 = d0/ifr\n",
    "s0 = n-ic0-r0-d0\n",
    "e0 = ic0\n",
    "id10=id20=id30=id40=id50=id60=id70=ic0*ifr/7.0\n",
    "ir10=ir20=ir30=ir40=ir50=ic0*(1.0-ifr)/5.0\n",
    "\n",
    "u0 = hcat(s0, \n",
    "                    e0,\n",
    "                    id10,id20,id30,id40,id50, id60, id70, d0,\n",
    "                    ir10,ir20,ir30,ir40,ir50, r0);\n"
   ]
  },
  {
   "cell_type": "markdown",
   "metadata": {},
   "source": [
    "combine all the model parameters"
   ]
  },
  {
   "cell_type": "code",
   "execution_count": 14,
   "metadata": {},
   "outputs": [],
   "source": [
    "p_init = [p0_ode; p0_scaler; p0_nnet];"
   ]
  },
  {
   "cell_type": "markdown",
   "metadata": {},
   "source": [
    "define time span and points to save the data"
   ]
  },
  {
   "cell_type": "code",
   "execution_count": 15,
   "metadata": {},
   "outputs": [
    {
     "data": {
      "text/plain": [
       "0.0:1.0:98.0"
      ]
     },
     "execution_count": 15,
     "metadata": {},
     "output_type": "execute_result"
    }
   ],
   "source": [
    "t_tot = Float32(size(coupling_matrix,3))\n",
    "tspan = (0.0f0, t_tot-1.0)\n",
    "tsteps = 0.0f0:1.0:t_tot-1.0"
   ]
  },
  {
   "cell_type": "markdown",
   "metadata": {},
   "source": [
    "solve the ode with the initial conditions "
   ]
  },
  {
   "cell_type": "code",
   "execution_count": 21,
   "metadata": {
    "scrolled": false
   },
   "outputs": [],
   "source": [
    "prob_seird = ODEProblem(SEIRD_mobility_coupled, u0, tspan, p_init)\n",
    "sol_univ = solve(prob_seird, DP5(),abstol = 1e-6, reltol = 1e-3;saveat=tsteps);"
   ]
  },
  {
   "cell_type": "code",
   "execution_count": 22,
   "metadata": {},
   "outputs": [
    {
     "data": {
      "text/plain": [
       "loss (generic function with 1 method)"
      ]
     },
     "execution_count": 22,
     "metadata": {},
     "output_type": "execute_result"
    }
   ],
   "source": [
    "function loss(params_)\n",
    "    sol_ = solve(prob_seird, Tsit5(),p=params_, abstol = 1e-8, reltol = 1e-4, \n",
    "        sensealg=BacksolveAdjoint(),\n",
    "           saveat=tsteps)\n",
    "    sol = Array(sol_)\n",
    "\n",
    "    l1 = sum((diff(sol[:,1,:],dims=2)-epi_array[:,1,2:end]).^2)\n",
    "    l2 = sum((diff(sol[:,10,:],dims=2)-epi_array[:,2,2:end]).^2)\n",
    "    return l1+l2\n",
    "end"
   ]
  },
  {
   "cell_type": "code",
   "execution_count": 23,
   "metadata": {},
   "outputs": [],
   "source": [
    "using BenchmarkTools\n",
    "using Zygote"
   ]
  },
  {
   "cell_type": "code",
   "execution_count": 24,
   "metadata": {},
   "outputs": [
    {
     "data": {
      "text/plain": [
       "BenchmarkTools.Trial: \n",
       "  memory estimate:  349.58 MiB\n",
       "  allocs estimate:  107891\n",
       "  --------------\n",
       "  minimum time:     288.021 ms (11.89% GC)\n",
       "  median time:      308.054 ms (16.30% GC)\n",
       "  mean time:        315.976 ms (15.57% GC)\n",
       "  maximum time:     355.228 ms (14.51% GC)\n",
       "  --------------\n",
       "  samples:          16\n",
       "  evals/sample:     1"
      ]
     },
     "execution_count": 24,
     "metadata": {},
     "output_type": "execute_result"
    }
   ],
   "source": [
    "@benchmark loss(p_init)"
   ]
  },
  {
   "cell_type": "code",
   "execution_count": 25,
   "metadata": {},
   "outputs": [
    {
     "data": {
      "text/plain": [
       "BenchmarkTools.Trial: \n",
       "  memory estimate:  14.01 GiB\n",
       "  allocs estimate:  269620556\n",
       "  --------------\n",
       "  minimum time:     17.982 s (14.09% GC)\n",
       "  median time:      17.982 s (14.09% GC)\n",
       "  mean time:        17.982 s (14.09% GC)\n",
       "  maximum time:     17.982 s (14.09% GC)\n",
       "  --------------\n",
       "  samples:          1\n",
       "  evals/sample:     1"
      ]
     },
     "execution_count": 25,
     "metadata": {},
     "output_type": "execute_result"
    }
   ],
   "source": [
    "@benchmark dp1 = Zygote.gradient(loss,p_init)"
   ]
  },
  {
   "cell_type": "code",
   "execution_count": null,
   "metadata": {},
   "outputs": [],
   "source": []
  }
 ],
 "metadata": {
  "kernelspec": {
   "display_name": "Julia nodeps 1.5.0",
   "language": "julia",
   "name": "julia-nodeps-1.5"
  },
  "language_info": {
   "file_extension": ".jl",
   "mimetype": "application/julia",
   "name": "julia",
   "version": "1.5.0"
  },
  "toc": {
   "base_numbering": 1,
   "nav_menu": {},
   "number_sections": true,
   "sideBar": true,
   "skip_h1_title": false,
   "title_cell": "Table of Contents",
   "title_sidebar": "Contents",
   "toc_cell": false,
   "toc_position": {},
   "toc_section_display": true,
   "toc_window_display": false
  }
 },
 "nbformat": 4,
 "nbformat_minor": 4
}
